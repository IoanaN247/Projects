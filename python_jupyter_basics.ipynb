{
 "cells": [
  {
   "cell_type": "markdown",
   "metadata": {
    "id": "3J1iQx9qz5F9"
   },
   "source": [
    "# Preliminaries: Python and Jupyter Notebook"
   ]
  },
  {
   "cell_type": "markdown",
   "metadata": {
    "id": "Rvtqv_XSz5GC"
   },
   "source": [
    "## Goals\n",
    "\n",
    "By the end of this case you should have properly set up and familiarized yourself with Python, Jupyter and Anaconda.\n",
    "\n",
    "You should further have a working knowledge of various fundamental building blocks of Python (listed at the end of the case). This means being able to write simple code to perform analytical tasks such as creating metrics for making a business decision."
   ]
  },
  {
   "cell_type": "markdown",
   "metadata": {
    "id": "J9LYgauez5GD"
   },
   "source": [
    "## Python and Jupyter\n",
    "\n",
    "Python is a general purpose programming language that allows for both simple and complex data analysis. Python is incredibly versatile, allowing analysts, consultants, engineers, and managers to obtain and analyze information for insightful decision-making.\n",
    "\n",
    "The [Jupyter Notebook](https://jupyter.org/index.html) is an open-source web application that allows for Python code development. Jupyter further allows for inline plotting and provides useful mechanisms for viewing data that make it an excellent resource for a variety of projects and disciplines.\n",
    "\n",
    "The following section will outline how to install and begin working with Python and Juypter."
   ]
  },
  {
   "cell_type": "markdown",
   "metadata": {
    "id": "DYaoxKdfz5GF"
   },
   "source": [
    "## Setting up the Python Environment\n",
    "\n",
    "Instruction guides for Windows and MacOS are included below. Follow the one that corresponds with your operating system.\n",
    "\n",
    "### Windows Install\n",
    "\n",
    "1. Open your browser and go to https://www.anaconda.com/distribution/\n",
    "\n",
    "2. Click on \"Windows\" and then \"Download\" for Python 3.7 64-bit installer\n",
    "\n",
    "3. Run the downloaded file found in the downloads section from Step 2\n",
    "\n",
    "4. Click through the install prompts\n",
    "\n",
    "5. Go to menu (or Windows Explorer), find the Anaconda3 folder, and double-click to run\n",
    "\n",
    "### MacOS Install\n",
    "\n",
    "1. Open your browser and go to https://www.anaconda.com/distribution/\n",
    "\n",
    "2. Click on \"MacOS\" and then \"Download\" for Python 3.7 64-bit installer\n",
    "\n",
    "3. Run the downloaded file found in the downloads section from Step 2\n",
    "\n",
    "4. Click through the install prompts\n",
    "\n",
    "5. Use a Spotlight Search and type \"Navigator\", select and run the Anaconda Navigator program. Note that MacOS also comes with Python pre-installed, but you should _not_ use this version, which is used by the system. Anaconda will run a second installation of Python and you should ensure that you only use this second installation for all tasks."
   ]
  },
  {
   "cell_type": "markdown",
   "metadata": {
    "id": "6HHDYkSzz5GG"
   },
   "source": [
    "# Jupyter notebook"
   ]
  },
  {
   "cell_type": "markdown",
   "metadata": {
    "id": "oPWeV-nxz5GH"
   },
   "source": [
    "First thing I would recommend before continuing this notebook is to watch this tutorial https://www.youtube.com/watch?v=HW29067qVWk in order to get familiarized with Jupyter notebook"
   ]
  },
  {
   "cell_type": "markdown",
   "metadata": {
    "id": "L7mr4Awvz5GI"
   },
   "source": [
    "**Once you have setup Anaconda and watch the tutorial on Jupyter notebook, you should download this notebook (by going to File-> download -> download .ipynb) and open it in your Jupyter notebook to continue working in your own laptop/PC**."
   ]
  },
  {
   "cell_type": "markdown",
   "metadata": {
    "id": "8g7YJl40z5GJ"
   },
   "source": [
    "## File Management with Python and Jupyter\n",
    "\n",
    "It is common practice to have a main folder where all projects will be located (e.g. \"jupyter_research\"). The following are guidelines you can use for Python projects to help keep your code organized and accessible:\n",
    "\n",
    "1. Create subfolders for each Jupyter-related project\n",
    "3. Group related .ipynb (the file format for Jupyter Notebook) files together in the same folder\n",
    "2. Create a \"Data\" folder within individual project folders if using a large number of related data files\n",
    "\n",
    "You should now be set up and ready to begin coding in Python!"
   ]
  },
  {
   "cell_type": "markdown",
   "metadata": {
    "id": "QWdzQA4nz5GL"
   },
   "source": [
    "# Identifying Expansion Opportunities for Luxury Commercial Airline Flights"
   ]
  },
  {
   "cell_type": "markdown",
   "metadata": {
    "id": "Jw1Qkrb0z5GN"
   },
   "source": [
    "## Case Introduction\n",
    "\n",
    "**Business Context.** You are an employee for GrowthAir, a growing commercial airline company. In the past few years, GrowthAir has expanded luxury flight services to locations across the globe. Following your team's excellent performance in identifying new business opportunities last year, you have been tasked with identifying the top countries to further expand GrowthAir's luxury flight service.\n",
    "\n",
    "**Business Problem.** Your manager has asked you to answer the following question: <b>\"In which countries should GrowthAir expand its luxury flight service?\"</b>\n",
    "\n",
    "**Analytical Context.** The relevant data is a series of success estimates (i.e. probabilities of success) that your internal marketing research teams have come up with. Using your ability to conduct data analysis in Python, you will embark on summarizing the available success estimates to produce a concise recommendation to your boss.\n",
    "\n",
    "**Execution**. In this case, you will look at simple metrics on the data such as mean, median, min/max, and ultimately make your suggestion based on these elementary statistics. The analysis portion should be relatively simple and every student should be able to do this with pen and paper. However, what is special about this case is that you will perform these tasks in a Python environment to familiarize yourself with new techniques and tools. "
   ]
  },
  {
   "cell_type": "markdown",
   "metadata": {
    "id": "4X8UVYFhz5GO"
   },
   "source": [
    "## Fundamentals of Python\n",
    "\n",
    "[Python](https://docs.python.org/3/) is an [interpreted, high-level general-programming language](https://www.webopedia.com/TERM/O/object_oriented_programming_OOP.html) that was first released in 1991. Python allows users to easily manipulate data and store values in what are known as <b>objects</b>. Everything in Python is an object and has a <b>type</b>. \n",
    "\n",
    "For example, if a user aims to store the integer 5 in an object named ```my_int```, this can be accomplished by writing the Python statement, ```my_int = 5```. If you're used to syntax from mathematics, this can seem confusing. In this case `my_int` is a variable, much like you might find in algebra, but the `=` sign is for _assignment_ not _equality_ (the latter is denoted with `==`). So in this case `my_int = 5` should be taken to mean something more like `Let my_int be equal to 5` rather than `my_int is equal to 5`.\n",
    "\n",
    "Here, `my_int` is an example of a _variable_ because it can change value (we could later assign a different value to it) and it is of type Integer, known in Python simply as `int`. Unlike some other programming languages, Python guesses the type of the variable from the value that we assign, so we do not need to specify the type of the variable explicitly.\n",
    "\n",
    "Python variables have a variety of data types. If you are used to using Microsoft Excel, this is similar to how Excel distinguishes between data types such as Text, Number, Currency, Date, or Scientific. Here are some common data types that you will come across in Python:\n",
    "\n",
    "1. Integers, type ```int```: ```my_int = 1```\n",
    "2. Float type ```float```: ```my_float = 25.5```\n",
    "3. Strings, type ```str```: ```my_string = 'Hello'```\n",
    "\n",
    "Note that the names `my_int`, `my_float` and `my_string` are arbitrary here. While it is useful to name your variables so that the names contain some information about what they are used for, this code would be functionally identical to if we had used `x`, `xrtqp2` and `my_very_long_variable_name`, respectively.\n",
    "\n",
    "Here we see (1) <b>integers</b> and (2) <b>floats</b> store numeric data.  The difference between the two is that floats store decimal variables (fractions), whereas the integer type can only store integer variables (whole numbers). Finally, (3) is the <b>string</b> type. Strings are used to store textual data in Python (a string of one or more characters). Later in this case we will use string variables to store country names. They are often used to store identifiers such as person names, city names, and more.\n",
    "\n",
    "There are other data types available in Python; however, these are the three fundamental types that you will see across almost every Python program. Always keep in mind that **every** object in Python has a type and some of these \"types\" can be custom-defined by the user, which is one of the benefits of Python.\n",
    "\n",
    "The simplest use of Python is as a calculator. We have seen how to assign values to variables, but we can also carry out computations on these variables. A Python program contains one or more lines of code, which are executed in a top-down fashion (with some exceptions that we'll come across later). The following Python program demonstrates this functionality:\n",
    "\n",
    "```\n",
    "x = 5\n",
    "y = 7\n",
    "z = x + y -1 \n",
    "print(z)\n",
    "```\n",
    "\n",
    "The `print` function simply outputs data to your screen (it has nothing to do with a computer printer, and won't waste your ink or paper!). In the code above, we start at the top and work down. This means we assign the value `5` to the variable `x`, then the value `7` to the variable `y` and finally the sum of the values `x` and `y` minus `1` to the variable `z`. Make sure that you can create this Python program and that you get the output `11` before you continue.\n",
    "\n",
    "There is a lot more to Python than the above. In this case, we will introduce you to more basic Python concepts. If you prefer, you can first go through the more extensive [official Python tutorial](https://docs.python.org/3/tutorial/introduction.html) and/or the [W3School Python tutorial](https://www.w3schools.com/python/) and practice more fundamental concepts before proceeding with this case. It is highly recommended that you go through either or both of these tutorials either before or after going through this notebook to solidify and augment your understanding of Python."
   ]
  },
  {
   "cell_type": "markdown",
   "metadata": {
    "id": "WTe6eUlVz5GP"
   },
   "source": [
    "### Exercise 0:\n",
    " \n",
    "#### 0.1\n",
    "\n",
    "* Use Python to calculate the answer to 1675 - 886 and print it out\n",
    "\n",
    "* Assign your name to a Python variable and print it out\n",
    "\n",
    "* Calculate the result of 65.4 + 7 - 6 + 2 and print it out"
   ]
  },
  {
   "cell_type": "markdown",
   "metadata": {
    "id": "uEjR90kkz5GQ"
   },
   "source": [
    "**Answer.**"
   ]
  },
  {
   "cell_type": "markdown",
   "metadata": {
    "id": "GkxF5ymUz5GR"
   },
   "source": [
    "-------"
   ]
  },
  {
   "cell_type": "code",
   "execution_count": 1,
   "metadata": {},
   "outputs": [
    {
     "name": "stdout",
     "output_type": "stream",
     "text": [
      "789\n"
     ]
    }
   ],
   "source": [
    "print(1675 - 886)"
   ]
  },
  {
   "cell_type": "code",
   "execution_count": 2,
   "metadata": {},
   "outputs": [
    {
     "name": "stdout",
     "output_type": "stream",
     "text": [
      "Ioana\n"
     ]
    }
   ],
   "source": [
    "name = 'Ioana'\n",
    "print(name)"
   ]
  },
  {
   "cell_type": "code",
   "execution_count": 3,
   "metadata": {},
   "outputs": [
    {
     "name": "stdout",
     "output_type": "stream",
     "text": [
      "68.4\n"
     ]
    }
   ],
   "source": [
    "ans = 65.4 + 7 - 6 + 2\n",
    "print(ans)"
   ]
  },
  {
   "cell_type": "markdown",
   "metadata": {
    "id": "osZBJNeFz5GS"
   },
   "source": [
    "#### 0.2\n",
    "\n",
    "We mentioned before that variables can change value. Let's take a look at how this works, and also introduce a few more Python operations:"
   ]
  },
  {
   "cell_type": "code",
   "execution_count": null,
   "metadata": {
    "id": "FlV1AWspz5GS",
    "outputId": "49b4c36f-f6ec-45a1-8a8d-1d9a5e9c6416"
   },
   "outputs": [
    {
     "name": "stdout",
     "output_type": "stream",
     "text": [
      "4\n",
      "6\n"
     ]
    }
   ],
   "source": [
    "x = 4\n",
    "print(x)\n",
    "y = 2\n",
    "x = y + x\n",
    "print(x)"
   ]
  },
  {
   "cell_type": "markdown",
   "metadata": {
    "id": "gaxt7tszz5GU"
   },
   "source": [
    "Again, if you're used to syntax from mathematics \"x = y + x\" might look very wrong at first glance. However, it simply means \"throw out the existing value of x, and assign a new value which is calculated as the sum of y and x\". Here, we can see that the value of x changes, demonstrating why we call them \"variables\".\n",
    "    \n",
    "We can also use more operators than just `+` and `-`. We use `*` for multiplication, `/` for division, and `**` for power. The standard order of operations rules from mathematics also applies and parentheses `()` can be used to override these:"
   ]
  },
  {
   "cell_type": "code",
   "execution_count": null,
   "metadata": {
    "id": "ql7HYLzwz5GV",
    "outputId": "11965e9c-b3c9-474e-ee4c-4c629495cc90"
   },
   "outputs": [
    {
     "name": "stdout",
     "output_type": "stream",
     "text": [
      "11\n",
      "25\n"
     ]
    }
   ],
   "source": [
    "x = 2\n",
    "y = 3\n",
    "print (x + y ** x)\n",
    "print((x+y)**x)"
   ]
  },
  {
   "cell_type": "markdown",
   "metadata": {
    "id": "31yT-AiFz5GV"
   },
   "source": [
    "Now try it yourself. Assign the values 3, 4, 5 to three different variables called `a`, `b`, and `c`, and calculate the values of \n",
    "\n",
    "* `c` squared\n",
    "* `a` squared + `b` squared"
   ]
  },
  {
   "cell_type": "markdown",
   "metadata": {
    "id": "kNDoi02oz5GV"
   },
   "source": [
    "**Answer.**"
   ]
  },
  {
   "cell_type": "markdown",
   "metadata": {
    "id": "HHOzfxCHz5GW"
   },
   "source": [
    "-------"
   ]
  },
  {
   "cell_type": "code",
   "execution_count": 4,
   "metadata": {},
   "outputs": [],
   "source": [
    "a, b, c = 3, 4, 5"
   ]
  },
  {
   "cell_type": "code",
   "execution_count": 5,
   "metadata": {},
   "outputs": [
    {
     "data": {
      "text/plain": [
       "25"
      ]
     },
     "execution_count": 5,
     "metadata": {},
     "output_type": "execute_result"
    }
   ],
   "source": [
    "c**2"
   ]
  },
  {
   "cell_type": "code",
   "execution_count": 6,
   "metadata": {},
   "outputs": [
    {
     "data": {
      "text/plain": [
       "25"
      ]
     },
     "execution_count": 6,
     "metadata": {},
     "output_type": "execute_result"
    }
   ],
   "source": [
    "a**2 + b**2"
   ]
  },
  {
   "cell_type": "markdown",
   "metadata": {
    "id": "sAcH4ahxz5GW"
   },
   "source": [
    "Now that we've covered the fundamentals of Python, let's take a look at GrowthAir's proprietary company data on country success estimates."
   ]
  },
  {
   "cell_type": "markdown",
   "metadata": {
    "id": "ys5Pi6sDz5GW"
   },
   "source": [
    "## Exploring company data on success estimates\n",
    "\n",
    "Your company has some proprietary data that they need you to analyze. This data consists of estimates of the probability of success for global expansion projects by country, created by several leading analysis agencies.\n",
    "\n",
    "The ```success_estimates``` variable below is a Python dictionary. Before, we showed how variables could contain simple data types like a single integer, or a string. As an extension of that, variables can also refer to **data structures**. These are more complicated data types that comprise many single pieces of data, organized in a specific way.\n",
    "\n",
    "As before, we use `=`, the **assignment operator**, to assign a value to the variable. \n",
    "\n",
    "Python's dictionary type stores a mapping of key-value pairs that allow users to quickly access information for a particular key. By specifying a key, the user can return the value corresponding to the given key. Python's syntax for [dictionaries](https://www.w3schools.com/python/python_dictionaries.asp) uses curly braces {}:\n",
    "\n",
    "```python\n",
    "user_dictionary = {'Key1': Value1, 'Key2': Value2, 'Key3': Value3}\n",
    "```\n",
    "\n",
    "The ```success_estimates``` dictionary has keys which are strings, and values which are of type <b>list</b>. A [list](https://www.w3schools.com/python/python_lists.asp) is an incredibly useful data structure in Python that can store any number of Python objects, and are denoted by the use of square brackets ```[]```. \n",
    "\n",
    "In ```success_estimates``` below, the list contains float types. Lists are versatile and can be expanded by adding new elements to the end of the list (the right-most side is considered the end of the list). Moreover, list elements (i.e. the objects in the list) can be accessed easily using integer indices. Interestingly, lists can also store other lists (called a lists of lists).  This makes them a powerful tool for holding complex data sets.\n",
    "\n",
    "Let's take a look at the ```success_estimates``` data. Each estimate (each item in each list) here is a number (float) between 0 and 1 inclusive, which represents the probability that expanding to that country will be successful. For example, we have 4 estimates of success for expanding into Australia, These are 0.6 (fairly likely that we will succeed), 0.33 (fairly unlikely that we will succeed), 0.11 (very unlikely that we will succeed) and 0.14 (also very unlikely that we succeed). Overall, Australia does not seem like a good choice."
   ]
  },
  {
   "cell_type": "code",
   "execution_count": 7,
   "metadata": {
    "id": "bnKoSMk5z5GX"
   },
   "outputs": [],
   "source": [
    "# Lines that start with the `#` symbol are comments, and are ignored by Python completely\n",
    "# They only exist to make your code more readable for humans\n",
    "# It's good practice to have one or more comments above non-obvious parts of code \n",
    "# to explain what they do\n",
    "\n",
    "# Data on probability of expansion success by country estimates\n",
    "success_estimates = {\n",
    "    'Australia': [0.6, 0.33, 0.11, 0.14],\n",
    "    'France': [0.66, 0.78, 0.98, 0.2],\n",
    "    'Italy': [0.6],\n",
    "    'Brazil': [0.22, 0.22, 0.43],\n",
    "    'USA': [0.2, 0.5, 0.3],\n",
    "    'England': [0.45],\n",
    "    'Canada': [0.25, 0.3],\n",
    "    'Argentina': [0.22],\n",
    "    'Greece': [0.45, 0.66, 0.75, 0.99, 0.15, 0.66],\n",
    "    'Morocco': [0.29],\n",
    "    'Tunisia': [0.68, 0.56],\n",
    "    'Egypt': [0.99],\n",
    "    'Jamaica': [0.61, 0.65, 0.71],\n",
    "    'Switzerland': [0.73, 0.86, 0.84, 0.51, 0.99],\n",
    "    'Germany': [0.45, 0.49, 0.36]\n",
    "}"
   ]
  },
  {
   "cell_type": "markdown",
   "metadata": {
    "id": "sqZdGAFSz5GX"
   },
   "source": [
    "Above, we have defined out dataset, mapping specific countries to lists of values (estimates). The simplest thing we can do with this data is to output it, again using the `print()` function as follows:"
   ]
  },
  {
   "cell_type": "code",
   "execution_count": null,
   "metadata": {
    "id": "BflC7tFLz5GY",
    "outputId": "2bb486a0-8713-4335-9809-f5ef1017e1d7",
    "scrolled": true
   },
   "outputs": [
    {
     "name": "stdout",
     "output_type": "stream",
     "text": [
      "{'Australia': [0.6, 0.33, 0.11, 0.14], 'France': [0.66, 0.78, 0.98, 0.2], 'Italy': [0.6], 'Brazil': [0.22, 0.22, 0.43], 'USA': [0.2, 0.5, 0.3], 'England': [0.45], 'Canada': [0.25, 0.3], 'Argentina': [0.22], 'Greece': [0.45, 0.66, 0.75, 0.99, 0.15, 0.66], 'Morocco': [0.29], 'Tunisia': [0.68, 0.56], 'Egypt': [0.99], 'Jamaica': [0.61, 0.65, 0.71], 'Switzerland': [0.73, 0.86, 0.84, 0.51, 0.99], 'Germany': [0.45, 0.49, 0.36]}\n"
     ]
    }
   ],
   "source": [
    "#no quotations marks needed when printing an existing variable\n",
    "print(success_estimates)"
   ]
  },
  {
   "cell_type": "markdown",
   "metadata": {
    "id": "G97fx2xrz5GY"
   },
   "source": [
    "We would like to recommend that the business put effort into the country with the highest success estimate. But what does this mean when there are multiple success estimates for some countries, and only one for others? We can use metrics such as averages to resolve this. We will explore this next."
   ]
  },
  {
   "cell_type": "markdown",
   "metadata": {
    "id": "obZk9oNIz5GY"
   },
   "source": [
    "## Interacting with dictionaries and lists\n",
    "\n",
    "Taking a careful look at the ```success_estimates``` dictionary, you notice some countries only have one success estimate, while others have many. For example, England has only one estimate contained in its list [0.45], while Jamaica has three estimates contained in its list [0.61, 0.65, 0.71]. Let's zoom in on Jamaica and take a look at some summary statistics of the estimates.\n",
    "\n",
    "In Python, the dictionary type has built-in methods (functions, which we will discuss later) to access the dictionary keys and values. These methods are called by typing ```.keys()``` or ```.values()``` after the dictionary object. We will change the return type of calling ```.keys()``` and ```.values()``` to a list by using the ```list()``` method."
   ]
  },
  {
   "cell_type": "code",
   "execution_count": null,
   "metadata": {
    "id": "pmYWLV8lz5GZ",
    "outputId": "567b82b6-d51d-4884-a146-4baede9b2848",
    "scrolled": true
   },
   "outputs": [
    {
     "data": {
      "text/plain": [
       "dict_keys(['Australia', 'France', 'Italy', 'Brazil', 'USA', 'England', 'Canada', 'Argentina', 'Greece', 'Morocco', 'Tunisia', 'Egypt', 'Jamaica', 'Switzerland', 'Germany'])"
      ]
     },
     "execution_count": 11,
     "metadata": {},
     "output_type": "execute_result"
    }
   ],
   "source": [
    "# Look at the keys...\n",
    "success_estimates.keys()"
   ]
  },
  {
   "cell_type": "markdown",
   "metadata": {
    "id": "haJpXT_zz5GZ"
   },
   "source": [
    "Note above that the first thing you see is `dict_keys`, indicating the **type** of the data. Let's convert it to a list which is a simpler and more common data type. We can do this by passing the data into `list(...)`"
   ]
  },
  {
   "cell_type": "code",
   "execution_count": null,
   "metadata": {
    "id": "RicZjbDpz5GZ",
    "outputId": "3530db0f-4c74-4b64-e1bd-20042aa41b3d"
   },
   "outputs": [
    {
     "data": {
      "text/plain": [
       "['Australia',\n",
       " 'France',\n",
       " 'Italy',\n",
       " 'Brazil',\n",
       " 'USA',\n",
       " 'England',\n",
       " 'Canada',\n",
       " 'Argentina',\n",
       " 'Greece',\n",
       " 'Morocco',\n",
       " 'Tunisia',\n",
       " 'Egypt',\n",
       " 'Jamaica',\n",
       " 'Switzerland',\n",
       " 'Germany']"
      ]
     },
     "execution_count": 12,
     "metadata": {},
     "output_type": "execute_result"
    }
   ],
   "source": [
    "# now let's look at the keys in list form. This is more legible and usable for us later on.\n",
    "list(success_estimates.keys())"
   ]
  },
  {
   "cell_type": "markdown",
   "metadata": {
    "id": "0G93KLciz5Ga"
   },
   "source": [
    "Note above that the data is similar but no longer starts with `dict_keys`:"
   ]
  },
  {
   "cell_type": "code",
   "execution_count": null,
   "metadata": {
    "id": "W9diADLhz5Ga",
    "outputId": "5b790b18-f120-4c34-f7fc-9b142f632f02"
   },
   "outputs": [
    {
     "data": {
      "text/plain": [
       "[[0.6, 0.33, 0.11, 0.14],\n",
       " [0.66, 0.78, 0.98, 0.2],\n",
       " [0.6],\n",
       " [0.22, 0.22, 0.43],\n",
       " [0.2, 0.5, 0.3],\n",
       " [0.45],\n",
       " [0.25, 0.3],\n",
       " [0.22],\n",
       " [0.45, 0.66, 0.75, 0.99, 0.15, 0.66],\n",
       " [0.29],\n",
       " [0.68, 0.56],\n",
       " [0.99],\n",
       " [0.61, 0.65, 0.71],\n",
       " [0.73, 0.86, 0.84, 0.51, 0.99],\n",
       " [0.45, 0.49, 0.36]]"
      ]
     },
     "execution_count": 13,
     "metadata": {},
     "output_type": "execute_result"
    }
   ],
   "source": [
    "# We can also see the corresponding values (estimates) for each key as follows\n",
    "list(success_estimates.values())"
   ]
  },
  {
   "cell_type": "markdown",
   "metadata": {
    "id": "YBSUNT9qz5Ga"
   },
   "source": [
    "We will make use of the access to keys and values of a dictionary later in the case when comparing across numerous countries' estimates. For now, just remember that you can access a dictionary's full list of keys or values simply by calling built-in methods.\n",
    "\n",
    "We'd also like to check if a country name is one the keys in the dictionary. Python allows us to check if a key is in a dictionary through the use of the ```in``` keyword. The statement ```key in dictionary``` will return a <b>boolean type</b> of ```True``` if the key is one of the keys in the dictionary and ```False``` otherwise. Let's take a look at how this works."
   ]
  },
  {
   "cell_type": "code",
   "execution_count": null,
   "metadata": {
    "id": "h-6LjM0Lz5Gb",
    "outputId": "ed7e41e3-27d8-4fa0-cf11-fef8e63cff6a"
   },
   "outputs": [
    {
     "name": "stdout",
     "output_type": "stream",
     "text": [
      "Checking if Morocco key is present:\n",
      "True\n",
      "Checking if Japan key is present:\n",
      "False\n"
     ]
    }
   ],
   "source": [
    "print('Checking if Morocco key is present:')\n",
    "print('Morocco' in success_estimates) # print the VALUE of \"Morocco in success_estimates\"\n",
    "\n",
    "print('Checking if Japan key is present:')\n",
    "japan_boolean = 'Japan' in success_estimates\n",
    "print(japan_boolean)"
   ]
  },
  {
   "cell_type": "markdown",
   "metadata": {
    "id": "ut6loaRxz5Gb"
   },
   "source": [
    "We'd now like to access the value corresponding to a specific key in the ```success_estimates``` dictionary. Simply type the value name in square brackets adjacent to the dictionary name. For example, ```success_estimates['Jamaica']``` will return Jamaica's list of estimates:"
   ]
  },
  {
   "cell_type": "code",
   "execution_count": null,
   "metadata": {
    "id": "YF5fSWYMz5Gb",
    "outputId": "6d5902b7-7b18-4539-dbb1-23f04ecabc94"
   },
   "outputs": [
    {
     "data": {
      "text/plain": [
       "[0.61, 0.65, 0.71]"
      ]
     },
     "execution_count": 15,
     "metadata": {},
     "output_type": "execute_result"
    }
   ],
   "source": [
    "success_estimates['Jamaica'] "
   ]
  },
  {
   "cell_type": "markdown",
   "metadata": {
    "id": "WAXhiyr0z5Gc"
   },
   "source": [
    "If you would like to store the result in a variable to be used later, use the assignment operator ```'='```:"
   ]
  },
  {
   "cell_type": "code",
   "execution_count": null,
   "metadata": {
    "id": "CdjSwL3Zz5Gc"
   },
   "outputs": [],
   "source": [
    "jamaica_list = success_estimates['Jamaica'] "
   ]
  },
  {
   "cell_type": "markdown",
   "metadata": {
    "id": "RBzfTLUyz5Gc"
   },
   "source": [
    "You can then view the contents of the list via the ```print()``` method:"
   ]
  },
  {
   "cell_type": "code",
   "execution_count": null,
   "metadata": {
    "id": "MaMBTrejz5Gc",
    "outputId": "0b267bff-fa31-4c6f-bd13-ee5edfe87fa6"
   },
   "outputs": [
    {
     "name": "stdout",
     "output_type": "stream",
     "text": [
      "[0.61, 0.65, 0.71]\n"
     ]
    }
   ],
   "source": [
    "print(jamaica_list)"
   ]
  },
  {
   "cell_type": "markdown",
   "metadata": {
    "id": "beCEuWs8z5Gd"
   },
   "source": [
    "To access specific items in a dictionary, we used the **key name**. For example, we used `success_estimates['Jamaica']` to access the data about Jamaica. By contrast, to access specific elements in a list, we use an **index**, stating whether we want to access the first element, the second element, etc. Python uses **zero-based indexing**, which can be confusing at the start. This means that the first item in the list has index `0`, the second item has index `1`, and so on.\n",
    "\n",
    "We can access each of the first three items in the `jamaica_list` variable as follows:"
   ]
  },
  {
   "cell_type": "code",
   "execution_count": null,
   "metadata": {
    "id": "_S5bFy6qz5Gd",
    "outputId": "c0b181eb-10a1-411f-a189-81db17de9fbe"
   },
   "outputs": [
    {
     "name": "stdout",
     "output_type": "stream",
     "text": [
      "0.61\n",
      "0.65\n",
      "0.71\n"
     ]
    }
   ],
   "source": [
    "# Each successive print statement will print on a new line\n",
    "print(jamaica_list[0]) # prints the first element of the list\n",
    "print(jamaica_list[1]) # prints the second element of the list\n",
    "print(jamaica_list[2]) # prints the third element of the list"
   ]
  },
  {
   "cell_type": "markdown",
   "metadata": {
    "id": "U_tg2aIYz5Ge"
   },
   "source": [
    "[Slicing and indexing lists](https://railsware.com/blog/python-for-machine-learning-indexing-and-slicing-for-lists-tuples-strings-and-other-sequential-types/) (among other objects such as arrays, dataframes) is a crucial and essential part of basic Python. You will see this often in your data science career. Instead of accessing a single item in the list, we can access sublists of the list as follows."
   ]
  },
  {
   "cell_type": "code",
   "execution_count": null,
   "metadata": {
    "id": "zf8gaMC8z5Ge",
    "outputId": "bf4e1c4e-6054-46cd-c416-fb5c14dd8c24"
   },
   "outputs": [
    {
     "name": "stdout",
     "output_type": "stream",
     "text": [
      "[0.65, 0.71]\n",
      "[0.65, 0.71]\n"
     ]
    }
   ],
   "source": [
    "# taking the last 2 elements of jamaica_list\n",
    "print(jamaica_list[-2:])  # (go from the second last element until the end)\n",
    "print(jamaica_list[1:])  # (go from the secon d element until the end)"
   ]
  },
  {
   "cell_type": "code",
   "execution_count": null,
   "metadata": {
    "id": "db_F3qHvz5Ge",
    "outputId": "5638acaf-af6a-409e-d9d1-04c809a86de3"
   },
   "outputs": [
    {
     "name": "stdout",
     "output_type": "stream",
     "text": [
      "0.61\n"
     ]
    }
   ],
   "source": [
    "# multi-layered slicing\n",
    "print(success_estimates['Jamaica'][0]) # getting the first jamaican estimate from the dictionary"
   ]
  },
  {
   "cell_type": "markdown",
   "metadata": {
    "id": "wcKrP5H_z5Ge"
   },
   "source": [
    "Above, we do both in a single line of code. In most cases, Python operates from left to right, so it will first get the \"Jamaica\" item from the dictionary, and then get the first (zeroth) item from that list."
   ]
  },
  {
   "cell_type": "markdown",
   "metadata": {
    "id": "5IoK4zbJz5Gf"
   },
   "source": [
    "Python also offers a simple way to determine the length of a list: the ```len()``` method. We expect the length of ```jamaica_list``` to be 3 since it has three elements:"
   ]
  },
  {
   "cell_type": "code",
   "execution_count": null,
   "metadata": {
    "id": "GsfAze4lz5Gf",
    "outputId": "9b51f63a-e97f-4330-e3ad-ad42acf39d3b",
    "scrolled": true
   },
   "outputs": [
    {
     "data": {
      "text/plain": [
       "3"
      ]
     },
     "execution_count": 21,
     "metadata": {},
     "output_type": "execute_result"
    }
   ],
   "source": [
    "len(jamaica_list) # returns the length of the list"
   ]
  },
  {
   "cell_type": "markdown",
   "metadata": {
    "id": "La0Tp3Xxz5Gf"
   },
   "source": [
    "### Exercise 1:\n",
    "\n",
    "Print the length of the success estimate lists for France, Greece, and Morocco."
   ]
  },
  {
   "cell_type": "markdown",
   "metadata": {
    "id": "qvbTnm84z5Gf"
   },
   "source": [
    "**Answer.**"
   ]
  },
  {
   "cell_type": "markdown",
   "metadata": {
    "id": "YfKI62pjz5Gg"
   },
   "source": [
    "-------"
   ]
  },
  {
   "cell_type": "code",
   "execution_count": 10,
   "metadata": {},
   "outputs": [
    {
     "name": "stdout",
     "output_type": "stream",
     "text": [
      "number of estimates in France is 4\n",
      "number of estimates in Greece is 6\n",
      "number of estimates in Morocco is 1\n"
     ]
    }
   ],
   "source": [
    "wanted_countries = ['France', 'Greece', 'Morocco']\n",
    "\n",
    "for country in wanted_countries:\n",
    "    if country not in success_estimates:\n",
    "        print('not found')\n",
    "    else:\n",
    "        length = len(success_estimates[country])\n",
    "        print(\"number of estimates in\", country, \"is\", length)"
   ]
  },
  {
   "cell_type": "markdown",
   "metadata": {
    "id": "DLSANjd_z5Gg"
   },
   "source": [
    "### Exercise 2:\n",
    "\n",
    "Which of the following would be useful to store project success estimates if they were available at a regional level instead of a country level?\n",
    "\n",
    "(a) List\n",
    "\n",
    "(b) Dictionary\n",
    "\n",
    "(c) Float\n",
    "\n",
    "(d) String\n",
    "\n",
    "**Answer.** "
   ]
  },
  {
   "cell_type": "markdown",
   "metadata": {
    "id": "BrzrGmOVz5Gg"
   },
   "source": [
    "-------"
   ]
  },
  {
   "cell_type": "code",
   "execution_count": 11,
   "metadata": {},
   "outputs": [],
   "source": [
    "# still dictionary as would need to distinguish between list of estimates for each region"
   ]
  },
  {
   "cell_type": "markdown",
   "metadata": {
    "id": "RLsQZIrrz5Gg"
   },
   "source": [
    "Now that we're familiar with using lists and know that lists are ordered data structures while dictionaries are unordered data structures, let's begin to compare success estimates across countries."
   ]
  },
  {
   "cell_type": "markdown",
   "metadata": {
    "id": "9ThI9gbAz5Gg"
   },
   "source": [
    "## Calculating a country-specific average success estimate"
   ]
  },
  {
   "cell_type": "markdown",
   "metadata": {
    "id": "dVUAS1ALz5Gg"
   },
   "source": [
    "Continuing our analysis on Jamaica, the list contains three numbers, [0.61, 0.65, 0.71]. Recall these numbers are of type ```float``` in Python, which stores numeric decimal values. One logical way to summarize these estimates so that they can be compared across countries is to use the arithmetic average. Let's use basic arithmetic operators to calculate the average success estimate for Jamaica, storing the result in a new variable ```avg_jamaica```."
   ]
  },
  {
   "cell_type": "code",
   "execution_count": null,
   "metadata": {
    "id": "4QqarbMlz5Gh",
    "outputId": "720175a5-247e-49b7-e074-42350119f56c"
   },
   "outputs": [
    {
     "name": "stdout",
     "output_type": "stream",
     "text": [
      "0.6566666666666666\n"
     ]
    }
   ],
   "source": [
    "avg_jamaica = (0.61 + 0.65 + 0.71) / 3\n",
    "print(avg_jamaica)"
   ]
  },
  {
   "cell_type": "markdown",
   "metadata": {
    "id": "IDuEzxghz5Gh"
   },
   "source": [
    "We see the average probability of success estimate for Jamaica is approximately 0.657.  However, we produced this estimate by hand-coding the values. If we were to do this for every country, it would take quite a long time. So we'd like to use a more automated way of producing the average."
   ]
  },
  {
   "cell_type": "markdown",
   "metadata": {
    "id": "WhwTVm0Nz5Gh"
   },
   "source": [
    "To produce an average we can utilize a <b>function</b>. Functions operate on data and variables in Python to perform a desired action. Functions may have both <b>inputs</b> and <b>outputs</b>, just like familiar mathematical operators like addition, subtraction, multiplication, and division (which each have two inputs and one output). While functions in Python may still be for a mathematical purpose, such as squaring an integer, Python allows for more abstract function behaviour, such as printing to the screen. In this case, the ```print()``` function will print its input to the screen."
   ]
  },
  {
   "cell_type": "markdown",
   "metadata": {
    "id": "I2d762dVz5Gh"
   },
   "source": [
    "Let's use Python's built-in mathematical functions ```sum()```, ```min()```, and ```max()``` to calculate Jamaica's average success estimate, minimum success estimate, and maximum success estimate, respectively:"
   ]
  },
  {
   "cell_type": "code",
   "execution_count": null,
   "metadata": {
    "id": "OqHySrZXz5Gh",
    "outputId": "f42c63f0-0ad9-4f2b-8904-8967a14c48c9",
    "scrolled": true
   },
   "outputs": [
    {
     "name": "stdout",
     "output_type": "stream",
     "text": [
      "[0.61, 0.65, 0.71]\n"
     ]
    }
   ],
   "source": [
    "country_name = 'Jamaica'\n",
    "jamaica_list = success_estimates[country_name] # list of the estimates for Jamaica\n",
    "print(jamaica_list)"
   ]
  },
  {
   "cell_type": "code",
   "execution_count": null,
   "metadata": {
    "id": "pTaJ31CXz5Gi",
    "outputId": "9d8c7259-d5c6-4d1e-e879-441a27779ec8"
   },
   "outputs": [
    {
     "name": "stdout",
     "output_type": "stream",
     "text": [
      "Country: Jamaica , Average: 0.6566666666666666\n",
      "Country: Jamaica , Min: 0.61\n",
      "Country: Jamaica , Max: 0.71\n"
     ]
    }
   ],
   "source": [
    "avg_jamaica = sum(jamaica_list) / len(jamaica_list)\n",
    "min_jamaica = min(jamaica_list)\n",
    "max_jamaica = max(jamaica_list)\n",
    "print(\"Country:\",country_name,\", Average:\",avg_jamaica)\n",
    "print(\"Country:\",country_name,\", Min:\",min_jamaica)\n",
    "print(\"Country:\",country_name,\", Max:\",max_jamaica)"
   ]
  },
  {
   "cell_type": "markdown",
   "metadata": {
    "id": "wFP-os7vz5Gi"
   },
   "source": [
    "Above, note how we pass the entire `jamaica_list` as input to the `min()` function. The output is then immediately assigned to a new variable which we have called `min_jamaica`. Also, note how we can pass more than one argument to the `print()` function, separating them with commas. This allows us to combine dynamic (variable) data with fixed descriptive strings to get readable outputs. We'll come across better ways to combine variable data into strings later on."
   ]
  },
  {
   "cell_type": "markdown",
   "metadata": {
    "id": "7uVWFVGSz5Gi"
   },
   "source": [
    "As expected, we get the same average result of approximately 0.657. Note that we could also have rounded the results to two decimal places using the [round()](https://www.w3schools.com/python/ref_func_round.asp) method. This can improve readability."
   ]
  },
  {
   "cell_type": "code",
   "execution_count": null,
   "metadata": {
    "id": "_HvjabaCz5Gi",
    "outputId": "f4d35d59-990b-42ab-c4c0-68a65fb2d79a"
   },
   "outputs": [
    {
     "name": "stdout",
     "output_type": "stream",
     "text": [
      "Country: Jamaica , Average: 0.66\n",
      "Country: Jamaica , Min: 0.61\n",
      "Country: Jamaica , Max: 0.71\n"
     ]
    }
   ],
   "source": [
    "avg_jamaica = round(sum(jamaica_list) / len(jamaica_list),2)\n",
    "min_jamaica = round(min(jamaica_list),2)\n",
    "max_jamaica = round(max(jamaica_list),2)\n",
    "print(\"Country:\",country_name,\", Average:\",avg_jamaica)\n",
    "print(\"Country:\",country_name,\", Min:\",min_jamaica)\n",
    "print(\"Country:\",country_name,\", Max:\",max_jamaica)"
   ]
  },
  {
   "cell_type": "markdown",
   "metadata": {
    "id": "zeJ2U5uoz5Gj"
   },
   "source": [
    "Functions in Python are a very powerful tool to increase productivity and perform more complex tasks."
   ]
  },
  {
   "cell_type": "markdown",
   "metadata": {
    "id": "z4WVxuKkz5Gj"
   },
   "source": [
    "### Exercise 3:\n",
    "\n",
    "Write a script to calculate the average success for every country. Output (using ```print()```) each country's average success estimate to the screen. The print statements should output each country on a new line, for example:\n",
    "```\n",
    "Country: France , Average: 0.655\n",
    "Country: Brazil , Average: 0.29\n",
    "```"
   ]
  },
  {
   "cell_type": "markdown",
   "metadata": {
    "id": "GQYHSD48z5Gj"
   },
   "source": [
    "**Answer.**"
   ]
  },
  {
   "cell_type": "markdown",
   "metadata": {
    "id": "lfFRjEAIz5Gj"
   },
   "source": [
    "-------"
   ]
  },
  {
   "cell_type": "code",
   "execution_count": 15,
   "metadata": {},
   "outputs": [
    {
     "name": "stdout",
     "output_type": "stream",
     "text": [
      "Country:  Australia , average:  0.3\n",
      "Country:  France , average:  0.66\n",
      "Country:  Italy , average:  0.6\n",
      "Country:  Brazil , average:  0.29\n",
      "Country:  USA , average:  0.33\n",
      "Country:  England , average:  0.45\n",
      "Country:  Canada , average:  0.28\n",
      "Country:  Argentina , average:  0.22\n",
      "Country:  Greece , average:  0.61\n",
      "Country:  Morocco , average:  0.29\n",
      "Country:  Tunisia , average:  0.62\n",
      "Country:  Egypt , average:  0.99\n",
      "Country:  Jamaica , average:  0.66\n",
      "Country:  Switzerland , average:  0.79\n",
      "Country:  Germany , average:  0.43\n"
     ]
    }
   ],
   "source": [
    "countries_list = list(success_estimates.keys())\n",
    "\n",
    "for country in countries_list:\n",
    "    print(\"Country: \", country, \", average: \", round((sum(success_estimates[country]) / len(success_estimates[country])), 2))"
   ]
  },
  {
   "cell_type": "markdown",
   "metadata": {
    "id": "AknQwgZoz5Gj"
   },
   "source": [
    "## Systematically determine the average success estimate for all of the countries"
   ]
  },
  {
   "cell_type": "markdown",
   "metadata": {
    "id": "S1qsgUHez5Gk"
   },
   "source": [
    "The end goal of this analysis is a recommendation for where global expansion opportunities should be considered. To reach a conclusion, it'd be ideal to have the average success probability for each country.\n",
    "\n",
    "To achieve this, we will use a control flow element in Python -  the [for loop](https://www.w3schools.com/python/python_for_loops.asp).  The ```for``` loop allows one to execute the same statements over and over again (i.e. looping). This saves a significant amount of time coding repetitive tasks and aids in code readability.  The general structure of a `for` loop is:\n",
    "\n",
    "```python\n",
    "for iterator_variable in some_sequence:\n",
    "    statements(s)\n",
    "```\n",
    "\n",
    "The `for` loop iterates over ```some_sequence``` and performs ```statements(s)``` at each iteration. That is, at each iteration the ```iterator_variable```  is updated to the next value in ```some_sequence```. As a concrete example, consider the loop:\n",
    "\n",
    "```python\n",
    "for i in [1,2,3,4]:\n",
    "    print(i*i)\n",
    "```\n",
    "\n",
    "Here, the `for` loop will print to the screen four times; that is it will print ```1``` on the first iteration of the loop, ```4``` on the second iteration, ```9``` on the third, and ```16``` on the fourth. Hence, the `for` loop statement will iterate over all the elements of the list ```[1,2,3,4]```, and at each iteration it updates the iterator variable ```i``` to the next value in the list ```[1,2,3,4]```. In `for` loops, it is an extremely good habit to choose an iterator variable that provides context rather than a random letter. In this case, we will use both to get you accustomed to both since you will mostly likely see both throughout the course of your data science career, but we encourage you to not use a generic name like `i` whenever possible for ease of communication.\n",
    "\n",
    "Let's use a `for` loop on our country data by getting a list of all the keys in ```success_estimates```:"
   ]
  },
  {
   "cell_type": "code",
   "execution_count": null,
   "metadata": {
    "id": "9ba7KxLlz5Gk",
    "outputId": "2e6106b1-952c-4e9e-adcc-50a5a9fb419c"
   },
   "outputs": [
    {
     "name": "stdout",
     "output_type": "stream",
     "text": [
      "['Australia', 'France', 'Italy', 'Brazil', 'USA', 'England', 'Canada', 'Argentina', 'Greece', 'Morocco', 'Tunisia', 'Egypt', 'Jamaica', 'Switzerland', 'Germany']\n"
     ]
    }
   ],
   "source": [
    "# Get all the keys from the success_estimates dictionary\n",
    "country_name_list = list(success_estimates.keys())\n",
    "print(country_name_list)"
   ]
  },
  {
   "cell_type": "markdown",
   "metadata": {
    "id": "aeXPMvQuz5Gk"
   },
   "source": [
    "Here we loop through all the elements in ```country_name_list```, extract the corresponding value from ```success_estimates``` (which will be of type list), and subsequently take the mean of the list. Detailed printing will guide you through the `for` loop execution:"
   ]
  },
  {
   "cell_type": "code",
   "execution_count": null,
   "metadata": {
    "id": "IxuloxuNz5Gk",
    "outputId": "7069c68c-563e-4442-eedb-d30d616d6e57"
   },
   "outputs": [
    {
     "name": "stdout",
     "output_type": "stream",
     "text": [
      "--Begin one iteration of loop--\n",
      "Element of country_name_list, placeholder i = Australia\n",
      "Access value from dict success_estimates[i]:  [0.6, 0.33, 0.11, 0.14]\n",
      "Average of list from success_estimates[i]:  0.29500000000000004\n",
      "--Go to next iteration of loop--\n",
      "\n",
      "--Begin one iteration of loop--\n",
      "Element of country_name_list, placeholder i = France\n",
      "Access value from dict success_estimates[i]:  [0.66, 0.78, 0.98, 0.2]\n",
      "Average of list from success_estimates[i]:  0.655\n",
      "--Go to next iteration of loop--\n",
      "\n",
      "--Begin one iteration of loop--\n",
      "Element of country_name_list, placeholder i = Italy\n",
      "Access value from dict success_estimates[i]:  [0.6]\n",
      "Average of list from success_estimates[i]:  0.6\n",
      "--Go to next iteration of loop--\n",
      "\n",
      "--Begin one iteration of loop--\n",
      "Element of country_name_list, placeholder i = Brazil\n",
      "Access value from dict success_estimates[i]:  [0.22, 0.22, 0.43]\n",
      "Average of list from success_estimates[i]:  0.29\n",
      "--Go to next iteration of loop--\n",
      "\n",
      "--Begin one iteration of loop--\n",
      "Element of country_name_list, placeholder i = USA\n",
      "Access value from dict success_estimates[i]:  [0.2, 0.5, 0.3]\n",
      "Average of list from success_estimates[i]:  0.3333333333333333\n",
      "--Go to next iteration of loop--\n",
      "\n",
      "--Begin one iteration of loop--\n",
      "Element of country_name_list, placeholder i = England\n",
      "Access value from dict success_estimates[i]:  [0.45]\n",
      "Average of list from success_estimates[i]:  0.45\n",
      "--Go to next iteration of loop--\n",
      "\n",
      "--Begin one iteration of loop--\n",
      "Element of country_name_list, placeholder i = Canada\n",
      "Access value from dict success_estimates[i]:  [0.25, 0.3]\n",
      "Average of list from success_estimates[i]:  0.275\n",
      "--Go to next iteration of loop--\n",
      "\n",
      "--Begin one iteration of loop--\n",
      "Element of country_name_list, placeholder i = Argentina\n",
      "Access value from dict success_estimates[i]:  [0.22]\n",
      "Average of list from success_estimates[i]:  0.22\n",
      "--Go to next iteration of loop--\n",
      "\n",
      "--Begin one iteration of loop--\n",
      "Element of country_name_list, placeholder i = Greece\n",
      "Access value from dict success_estimates[i]:  [0.45, 0.66, 0.75, 0.99, 0.15, 0.66]\n",
      "Average of list from success_estimates[i]:  0.61\n",
      "--Go to next iteration of loop--\n",
      "\n",
      "--Begin one iteration of loop--\n",
      "Element of country_name_list, placeholder i = Morocco\n",
      "Access value from dict success_estimates[i]:  [0.29]\n",
      "Average of list from success_estimates[i]:  0.29\n",
      "--Go to next iteration of loop--\n",
      "\n",
      "--Begin one iteration of loop--\n",
      "Element of country_name_list, placeholder i = Tunisia\n",
      "Access value from dict success_estimates[i]:  [0.68, 0.56]\n",
      "Average of list from success_estimates[i]:  0.6200000000000001\n",
      "--Go to next iteration of loop--\n",
      "\n",
      "--Begin one iteration of loop--\n",
      "Element of country_name_list, placeholder i = Egypt\n",
      "Access value from dict success_estimates[i]:  [0.99]\n",
      "Average of list from success_estimates[i]:  0.99\n",
      "--Go to next iteration of loop--\n",
      "\n",
      "--Begin one iteration of loop--\n",
      "Element of country_name_list, placeholder i = Jamaica\n",
      "Access value from dict success_estimates[i]:  [0.61, 0.65, 0.71]\n",
      "Average of list from success_estimates[i]:  0.6566666666666666\n",
      "--Go to next iteration of loop--\n",
      "\n",
      "--Begin one iteration of loop--\n",
      "Element of country_name_list, placeholder i = Switzerland\n",
      "Access value from dict success_estimates[i]:  [0.73, 0.86, 0.84, 0.51, 0.99]\n",
      "Average of list from success_estimates[i]:  0.7859999999999999\n",
      "--Go to next iteration of loop--\n",
      "\n",
      "--Begin one iteration of loop--\n",
      "Element of country_name_list, placeholder i = Germany\n",
      "Access value from dict success_estimates[i]:  [0.45, 0.49, 0.36]\n",
      "Average of list from success_estimates[i]:  0.4333333333333333\n",
      "--Go to next iteration of loop--\n",
      "\n"
     ]
    }
   ],
   "source": [
    "# Loop through all countries and calculate their mean success estimate\n",
    "for i in country_name_list:\n",
    "    print('--Begin one iteration of loop--')\n",
    "    print('Element of country_name_list, placeholder i = ' + i)\n",
    "    print('Access value from dict success_estimates[i]: ', success_estimates[i])\n",
    "    print('Average of list from success_estimates[i]: ', sum(success_estimates[i]) / len(success_estimates[i]))\n",
    "    print('--Go to next iteration of loop--')\n",
    "    print()"
   ]
  },
  {
   "cell_type": "markdown",
   "metadata": {
    "id": "F64-NeT1z5Gl"
   },
   "source": [
    "Let's take a closer look at the above ```for``` loop. The ```country_name_list``` has 15 countries which the ```for``` loop is iterating over. The ```for``` loop uses a placeholder variable, denoted ```i``` in this case, to store the element of ```country_name_list``` that each loop iteration corresponds to. Namely, for the first iteration of the ```for``` loop, ```i = 'Brazil'```. For the second iteration, ```i = 'Canada'```. And so on until the loop reaches the final element of ```country_name_list```, which it then completes and exits the looping process.\n",
    "\n",
    "Why is this looping process useful? Well, we've performed the same calculation statements 15 times while only writing the code once! Notice that for each iteration, the corresponding value from ```success_estimates``` is accessed, and the mean of the returned list is calculated. The ```for``` loop process also enhances code readability."
   ]
  },
  {
   "cell_type": "markdown",
   "metadata": {
    "id": "NfuXcIG4z5Gl"
   },
   "source": [
    "### Exercise 4:\n",
    "\n",
    "Write a `for` loop to instead calculate the minimum and maximum of each country's list of success estimates, printing each out consecutively as in the `for` loop example above."
   ]
  },
  {
   "cell_type": "markdown",
   "metadata": {
    "id": "4hFMOi4Rz5Gl"
   },
   "source": [
    "**Answer.**"
   ]
  },
  {
   "cell_type": "markdown",
   "metadata": {
    "id": "ZPXf_dm5z5Gl"
   },
   "source": [
    "-------"
   ]
  },
  {
   "cell_type": "code",
   "execution_count": 16,
   "metadata": {},
   "outputs": [
    {
     "name": "stdout",
     "output_type": "stream",
     "text": [
      "Country:  Australia min:  0.11 max:  0.6\n",
      "Country:  France min:  0.2 max:  0.98\n",
      "Country:  Italy min:  0.6 max:  0.6\n",
      "Country:  Brazil min:  0.22 max:  0.43\n",
      "Country:  USA min:  0.2 max:  0.5\n",
      "Country:  England min:  0.45 max:  0.45\n",
      "Country:  Canada min:  0.25 max:  0.3\n",
      "Country:  Argentina min:  0.22 max:  0.22\n",
      "Country:  Greece min:  0.15 max:  0.99\n",
      "Country:  Morocco min:  0.29 max:  0.29\n",
      "Country:  Tunisia min:  0.56 max:  0.68\n",
      "Country:  Egypt min:  0.99 max:  0.99\n",
      "Country:  Jamaica min:  0.61 max:  0.71\n",
      "Country:  Switzerland min:  0.51 max:  0.99\n",
      "Country:  Germany min:  0.36 max:  0.49\n"
     ]
    }
   ],
   "source": [
    "country_list = list(success_estimates.keys())\n",
    "\n",
    "for country in country_list:\n",
    "    estimates = success_estimates[country]\n",
    "    print('Country: ', country, 'min: ', min(estimates), 'max: ', max(estimates))"
   ]
  },
  {
   "cell_type": "markdown",
   "metadata": {
    "id": "jWgph309z5Gn"
   },
   "source": [
    "### Exercise 5:\n",
    "\n",
    "Using the `for` loop, write code to determine the country with the largest range of success estimates (that is, the largest difference between the smallest and largest estimate for a country)."
   ]
  },
  {
   "cell_type": "markdown",
   "metadata": {
    "id": "hSM-v5Q1z5Gn"
   },
   "source": [
    "**Answer.**"
   ]
  },
  {
   "cell_type": "markdown",
   "metadata": {
    "id": "swg1NOKWz5Gn"
   },
   "source": [
    "-------"
   ]
  },
  {
   "cell_type": "code",
   "execution_count": 17,
   "metadata": {},
   "outputs": [
    {
     "name": "stdout",
     "output_type": "stream",
     "text": [
      "Country:  Australia min - max:  0.49\n",
      "Country:  France min - max:  0.78\n",
      "Country:  Italy min - max:  0.0\n",
      "Country:  Brazil min - max:  0.21\n",
      "Country:  USA min - max:  0.3\n",
      "Country:  England min - max:  0.0\n",
      "Country:  Canada min - max:  0.04999999999999999\n",
      "Country:  Argentina min - max:  0.0\n",
      "Country:  Greece min - max:  0.84\n",
      "Country:  Morocco min - max:  0.0\n",
      "Country:  Tunisia min - max:  0.12\n",
      "Country:  Egypt min - max:  0.0\n",
      "Country:  Jamaica min - max:  0.09999999999999998\n",
      "Country:  Switzerland min - max:  0.48\n",
      "Country:  Germany min - max:  0.13\n"
     ]
    }
   ],
   "source": [
    "range = {}\n",
    "country_list = list(success_estimates.keys())\n",
    "\n",
    "for country in country_list:\n",
    "    estimates = success_estimates[country]\n",
    "    print('Country: ', country, 'min - max: ', max(estimates) - min(estimates))\n",
    "    range[country] = (max(estimates) - min(estimates))\n",
    "    "
   ]
  },
  {
   "cell_type": "code",
   "execution_count": 18,
   "metadata": {},
   "outputs": [
    {
     "data": {
      "text/plain": [
       "[('Greece', 0.84),\n",
       " ('France', 0.78),\n",
       " ('Australia', 0.49),\n",
       " ('Switzerland', 0.48),\n",
       " ('USA', 0.3),\n",
       " ('Brazil', 0.21),\n",
       " ('Germany', 0.13),\n",
       " ('Tunisia', 0.12),\n",
       " ('Jamaica', 0.09999999999999998),\n",
       " ('Canada', 0.04999999999999999),\n",
       " ('Italy', 0.0),\n",
       " ('England', 0.0),\n",
       " ('Argentina', 0.0),\n",
       " ('Morocco', 0.0),\n",
       " ('Egypt', 0.0)]"
      ]
     },
     "execution_count": 18,
     "metadata": {},
     "output_type": "execute_result"
    }
   ],
   "source": [
    "sorted(range.items(), key=lambda country: country[1], reverse=True) # sorted "
   ]
  },
  {
   "cell_type": "markdown",
   "metadata": {
    "id": "VWDOKl9Tz5Go"
   },
   "source": [
    "## Using list comprehensions to determine the number of estimates"
   ]
  },
  {
   "cell_type": "markdown",
   "metadata": {
    "id": "r4Emno8Qz5Go"
   },
   "source": [
    "Moving forward, we are interested in knowing the number of success estimates available for each country. Python offers a concise way to achieve this goal through the use of <b>list comprehensions</b>. Every list comprehension can also be rewritten as a `for` loop. The list comprehension syntax is simply more concise.\n",
    "\n",
    "[List comprehensions](https://www.programiz.com/python-programming/list-comprehension) allow one to concisely build a list. Let's take a look at how this works:"
   ]
  },
  {
   "cell_type": "code",
   "execution_count": null,
   "metadata": {
    "id": "qWI2FILQz5Go",
    "outputId": "73a21128-74e7-49bc-b60b-beef0e64e934"
   },
   "outputs": [
    {
     "data": {
      "text/plain": [
       "['Australia',\n",
       " 'France',\n",
       " 'Italy',\n",
       " 'Brazil',\n",
       " 'USA',\n",
       " 'England',\n",
       " 'Canada',\n",
       " 'Argentina',\n",
       " 'Greece',\n",
       " 'Morocco',\n",
       " 'Tunisia',\n",
       " 'Egypt',\n",
       " 'Jamaica',\n",
       " 'Switzerland',\n",
       " 'Germany']"
      ]
     },
     "execution_count": 32,
     "metadata": {},
     "output_type": "execute_result"
    }
   ],
   "source": [
    "key_name_list = [i for i in success_estimates] # loop over each item i in success_estimates and put i in the list (i is KEY)\n",
    "key_name_list"
   ]
  },
  {
   "cell_type": "markdown",
   "metadata": {
    "id": "74co8Se6z5Go"
   },
   "source": [
    "Here we see that we've looped over each key of the dictionary `success_estimates` (hence each country), and extracted the country name, all in one line of code. We can also access the values of each key in `success_estimates`:"
   ]
  },
  {
   "cell_type": "code",
   "execution_count": null,
   "metadata": {
    "id": "JEPAHA2Yz5Go",
    "outputId": "bcb261ce-6f86-418c-edcf-07c314c27ae1"
   },
   "outputs": [
    {
     "data": {
      "text/plain": [
       "[[0.6, 0.33, 0.11, 0.14],\n",
       " [0.66, 0.78, 0.98, 0.2],\n",
       " [0.6],\n",
       " [0.22, 0.22, 0.43],\n",
       " [0.2, 0.5, 0.3],\n",
       " [0.45],\n",
       " [0.25, 0.3],\n",
       " [0.22],\n",
       " [0.45, 0.66, 0.75, 0.99, 0.15, 0.66],\n",
       " [0.29],\n",
       " [0.68, 0.56],\n",
       " [0.99],\n",
       " [0.61, 0.65, 0.71],\n",
       " [0.73, 0.86, 0.84, 0.51, 0.99],\n",
       " [0.45, 0.49, 0.36]]"
      ]
     },
     "execution_count": 33,
     "metadata": {},
     "output_type": "execute_result"
    }
   ],
   "source": [
    "value_name_list = [success_estimates[country] for country in success_estimates] # loop over each item in success_estimates and put success_estimates[i] in the list\n",
    "value_name_list"
   ]
  },
  {
   "cell_type": "markdown",
   "metadata": {
    "id": "bgIQm-Xxz5Gp"
   },
   "source": [
    "In the list comprehension above, each value of the ```iterator_variable``` is a country name and the value is returned when ```success_estimates[country]``` is called. We see the list comprehension is an effective and concise way to write a `for` loop that creates a list.\n",
    "\n",
    "We can use this to quickly determine how many success estimates are available for each country:"
   ]
  },
  {
   "cell_type": "code",
   "execution_count": null,
   "metadata": {
    "id": "njPGQbp0z5Gp",
    "outputId": "b2f0ca00-47ba-4746-d821-1089cc119504"
   },
   "outputs": [
    {
     "data": {
      "text/plain": [
       "[['Australia', 4],\n",
       " ['France', 4],\n",
       " ['Italy', 1],\n",
       " ['Brazil', 3],\n",
       " ['USA', 3],\n",
       " ['England', 1],\n",
       " ['Canada', 2],\n",
       " ['Argentina', 1],\n",
       " ['Greece', 6],\n",
       " ['Morocco', 1],\n",
       " ['Tunisia', 2],\n",
       " ['Egypt', 1],\n",
       " ['Jamaica', 3],\n",
       " ['Switzerland', 5],\n",
       " ['Germany', 3]]"
      ]
     },
     "execution_count": 34,
     "metadata": {},
     "output_type": "execute_result"
    }
   ],
   "source": [
    "# Number of estimates available for each country - list of lists\n",
    "[[i, len(success_estimates[i])] for i in success_estimates]"
   ]
  },
  {
   "cell_type": "markdown",
   "metadata": {
    "id": "ldfL-EtFz5Gp"
   },
   "source": [
    "### Exercise 6:"
   ]
  },
  {
   "cell_type": "markdown",
   "metadata": {
    "id": "zgi7fnhDz5Gp"
   },
   "source": [
    "Using list comprehensions, write a script to create a <b>list of lists</b> called ```sum_squares_list```, where each element of the list is a two-item list [country name, value]. The value item in the list should be the sum of squares of that country's success estimates. For example, one element of ```sum_squares_list``` should be for Jamaica, where the two-item list is [Jamaica, 1.2987] (since 1.2987 = 0.61^2 + 0.65^2 + 0.71^2)."
   ]
  },
  {
   "cell_type": "markdown",
   "metadata": {
    "id": "-eFmzOWJz5Gp"
   },
   "source": [
    "**Answer.**"
   ]
  },
  {
   "cell_type": "markdown",
   "metadata": {
    "id": "WKuQaASez5Gq"
   },
   "source": [
    "-------"
   ]
  },
  {
   "cell_type": "code",
   "execution_count": 21,
   "metadata": {},
   "outputs": [
    {
     "data": {
      "text/plain": [
       "[['Australia', 0.5005999999999999],\n",
       " ['France', 2.0444],\n",
       " ['Italy', 0.36],\n",
       " ['Brazil', 0.28169999999999995],\n",
       " ['USA', 0.38],\n",
       " ['England', 0.2025],\n",
       " ['Canada', 0.1525],\n",
       " ['Argentina', 0.0484],\n",
       " ['Greece', 2.6388],\n",
       " ['Morocco', 0.0841],\n",
       " ['Tunisia', 0.7760000000000001],\n",
       " ['Egypt', 0.9801],\n",
       " ['Jamaica', 1.2987],\n",
       " ['Switzerland', 3.2183],\n",
       " ['Germany', 0.5722]]"
      ]
     },
     "execution_count": 21,
     "metadata": {},
     "output_type": "execute_result"
    }
   ],
   "source": [
    "[[i, sum([j**2 for j in (success_estimates[i])])] for i in success_estimates] # nested loop!"
   ]
  },
  {
   "cell_type": "markdown",
   "metadata": {
    "id": "bwSdzrMLz5Gq"
   },
   "source": [
    "### Exercise 7:\n",
    "\n",
    "We'd like to determine the spread around the mean success estimate for each country. Using list comprehensions, write a script that subtracts the mean success estimate for a given country from each success estimate for that country. Store the results in a list named ```removed_mean_list```. Round values to two decimal places. Your output should produce the following list of lists:\n",
    "\n",
    "```\n",
    "[['Australia', [0.3, 0.03, -0.19, -0.16]],\n",
    " ['France', [0.01, 0.12, 0.32, -0.46]],\n",
    " ['Italy', [0.0]],\n",
    " ['Brazil', [-0.07, -0.07, 0.14]],\n",
    " ['USA', [-0.13, 0.17, -0.03]],\n",
    " ['England', [0.0]],\n",
    " ['Canada', [-0.03, 0.02]],\n",
    " ['Argentina', [0.0]],\n",
    " ['Greece', [-0.16, 0.05, 0.14, 0.38, -0.46, 0.05]],\n",
    " ['Morocco', [0.0]],\n",
    " ['Tunisia', [0.06, -0.06]],\n",
    " ['Egypt', [0.0]],\n",
    " ['Jamaica', [-0.05, -0.01, 0.05]],\n",
    " ['Switzerland', [-0.06, 0.07, 0.05, -0.28, 0.2]],\n",
    " ['Germany', [0.02, 0.06, -0.07]]]\n",
    "```"
   ]
  },
  {
   "cell_type": "markdown",
   "metadata": {
    "id": "eGoBduaKz5Gq"
   },
   "source": [
    "**Answer.**"
   ]
  },
  {
   "cell_type": "markdown",
   "metadata": {
    "id": "aWsxtqI-z5Gq"
   },
   "source": [
    "-------"
   ]
  },
  {
   "cell_type": "code",
   "execution_count": 26,
   "metadata": {},
   "outputs": [
    {
     "data": {
      "text/plain": [
       "[['Australia', [0.3, 0.03, -0.19, -0.16]],\n",
       " ['France', [0.01, 0.12, 0.32, -0.46]],\n",
       " ['Italy', [0.0]],\n",
       " ['Brazil', [-0.07, -0.07, 0.14]],\n",
       " ['USA', [-0.13, 0.17, -0.03]],\n",
       " ['England', [0.0]],\n",
       " ['Canada', [-0.03, 0.02]],\n",
       " ['Argentina', [0.0]],\n",
       " ['Greece', [-0.16, 0.05, 0.14, 0.38, -0.46, 0.05]],\n",
       " ['Morocco', [0.0]],\n",
       " ['Tunisia', [0.06, -0.06]],\n",
       " ['Egypt', [0.0]],\n",
       " ['Jamaica', [-0.05, -0.01, 0.05]],\n",
       " ['Switzerland', [-0.06, 0.07, 0.05, -0.28, 0.2]],\n",
       " ['Germany', [0.02, 0.06, -0.07]]]"
      ]
     },
     "execution_count": 26,
     "metadata": {},
     "output_type": "execute_result"
    }
   ],
   "source": [
    "[[i, [round(j - (sum(success_estimates[i]) / len(success_estimates[i])), 2) for j in (success_estimates[i])]] for i in success_estimates] # nested loop!"
   ]
  },
  {
   "cell_type": "markdown",
   "metadata": {
    "id": "0r_e1z5_z5Gq"
   },
   "source": [
    "As list comprehension gets more complicated, it becomes more and more important to use proper naming conventions for variables. Good naming conventions dramatically improve the readability of your code."
   ]
  },
  {
   "cell_type": "markdown",
   "metadata": {
    "id": "QkR5YuZ0z5Gq"
   },
   "source": [
    "## Reflecting on the country-specific mean success estimate"
   ]
  },
  {
   "cell_type": "markdown",
   "metadata": {
    "id": "vimP8b46z5Gr"
   },
   "source": [
    "Based on the above analysis, we see the mean country success estimates vary widely, from the lowest, Canada = 0.275, to the highest, Egypt = 0.99. However, notice that Egypt's mean is calculated from 1 success estimate. Are we confident in trusting a single estimate as a proxy for the average success estimate?\n",
    "\n",
    "Given that the global expansion project will utilize valuable company resources, we decide it is best to restrict our analysis to countries that have two or more success estimates. To accomplish this task, we will use a control structure in Python known as the <b>[if...elif...else statement](https://www.w3schools.com/python/python_conditions.asp)</b>. The general structure follows:\n",
    "\n",
    "```python\n",
    "if test_expression_1:\n",
    "    block1_statement(s)\n",
    "elif test_expression_2:\n",
    "    block2_statement2(s)\n",
    "else:\n",
    "    block3_statement(s)\n",
    "```\n",
    "\n",
    "Here, ```test_expression_1``` and ```test_expression_2``` must evaluate to ```True``` or ```False```, a Python <b>boolean</b> type. The boolean type is associated with variables that are either ```True``` or ```False```.\n",
    "\n",
    "If ```test_expression_1``` is True, ```block1_statement(s)``` will execute and the other block statements will not. If ```test_expression_1``` is False yet ```test_expression_2``` is True, then ```block2_statement2(s)``` will execute and the others will not. Finally, if ```test_expression_1``` and ```test_expression_2``` are both False, then the else section's ```block3_statement(s)``` will execute. This conditional structure of an if statement allows one to control the flow of Python code.\n",
    "    \n",
    "The `elif` and `else` blocks are optional. You can also have a plain `if` block that simply executes some lines of code or skips them, depending on the evaluation of the conditional. As an example, let's look at only two countries from our dataset: Italy and Jamaica:"
   ]
  },
  {
   "cell_type": "code",
   "execution_count": null,
   "metadata": {
    "id": "i3VoW9Ssz5Gr",
    "outputId": "67012272-9ab7-466b-c0f5-c21de0bef2a1"
   },
   "outputs": [
    {
     "name": "stdout",
     "output_type": "stream",
     "text": [
      "False\n",
      "True\n"
     ]
    }
   ],
   "source": [
    "italy = success_estimates['Italy']\n",
    "jamaica = success_estimates['Jamaica']\n",
    "\n",
    "print(len(italy) > 1)\n",
    "print(len(jamaica) > 1)"
   ]
  },
  {
   "cell_type": "markdown",
   "metadata": {
    "id": "G-O4t2p4z5Gr"
   },
   "source": [
    "Above, we used the greater than operator `>` to compare two numbers and produce a boolean (the simplest Python data type - always either True or False). In the first case, we got False because the length of the `italy` list is **not** larger than 1. Put differently, it is not True that 1 > 1, so we get False. By contrast, Jamaica has 3 items, so the evaluation simplifies to `3 > 1` which is True, so on the second line above we see the output `True`.\n",
    "\n",
    "We can combine these expressions with `if` statements to control the flow of our code. An example is shown below:"
   ]
  },
  {
   "cell_type": "code",
   "execution_count": null,
   "metadata": {
    "id": "TF3l6rOjz5Gr",
    "outputId": "e16b6438-8d40-470d-bfa3-28391347dfd3"
   },
   "outputs": [
    {
     "name": "stdout",
     "output_type": "stream",
     "text": [
      "Jamaica has more than 1 estimate\n"
     ]
    }
   ],
   "source": [
    "if len(italy) > 1:\n",
    "    print(\"Italy has more than 1 estimate\")\n",
    "\n",
    "if len(jamaica) > 1:\n",
    "    print(\"Jamaica has more than 1 estimate\")"
   ]
  },
  {
   "cell_type": "markdown",
   "metadata": {
    "id": "Ev_Zy24gz5Gs"
   },
   "source": [
    "Above, we can see that the second line of code got skipped. It was never executed and we see no output for the statement that is \"gated off\" there.\n",
    "    \n",
    "The above shows two separate `if` blocks. Note that there is a difference between having two separate `if` blocks and an `if else` block, as shown below:"
   ]
  },
  {
   "cell_type": "code",
   "execution_count": null,
   "metadata": {
    "id": "Fe_sG-xYz5Gs",
    "outputId": "155dd778-14ba-4457-b707-0d119dfeebbe"
   },
   "outputs": [
    {
     "name": "stdout",
     "output_type": "stream",
     "text": [
      "Italy has more than 0 estimates\n"
     ]
    }
   ],
   "source": [
    "# **Incorrect logic warning**\n",
    "if len(italy) > 0:\n",
    "    print(\"Italy has more than 0 estimates\")\n",
    "elif len(jamaica) > 0:\n",
    "    print(\"Jamaica has more than 0 estimates\")\n",
    "else:\n",
    "    print(\"this will only execute if neither of the above lines do\")"
   ]
  },
  {
   "cell_type": "markdown",
   "metadata": {
    "id": "FY4JSdvRz5Gs"
   },
   "source": [
    "The example above shows how careful you have to be when coding. We use `0` instead of `1` as the minimum length of the list that we are interested in. Because the first statement evaluates to `True` (Italy *does* have more than zero estimates), Python skips the rest of the code without looking at it. Even though the next condition for Jamaica is _also_ true, because it is in an `elif` block it will never execute if any expression further above in the same block evaluated to True.\n",
    "   \n",
    "You'll see more advanced use of conditional logic using `if` later. For now, let's combine `if` statements with `for` loops to filter out all of the countries that only have one success estimate."
   ]
  },
  {
   "cell_type": "markdown",
   "metadata": {
    "id": "RAM86W-oz5Gs"
   },
   "source": [
    "## Selecting only multi-observation countries for global expansion potential"
   ]
  },
  {
   "cell_type": "markdown",
   "metadata": {
    "id": "0EfHreSNz5Gs"
   },
   "source": [
    "We will use the if statement above to remove countries with less than one success estimate. For convenience of viewing the result, we will store the mean estimates for each country in a new dictionary ```country_means```:"
   ]
  },
  {
   "cell_type": "code",
   "execution_count": 27,
   "metadata": {
    "id": "5FTdngg6z5Gt",
    "outputId": "b82348a8-5de4-46f5-bb65-23195be921a8"
   },
   "outputs": [
    {
     "name": "stdout",
     "output_type": "stream",
     "text": [
      "adding the mean for Australia\n",
      "adding the mean for France\n",
      "....skipping Italy\n",
      "adding the mean for Brazil\n",
      "adding the mean for USA\n",
      "....skipping England\n",
      "adding the mean for Canada\n",
      "....skipping Argentina\n",
      "adding the mean for Greece\n",
      "....skipping Morocco\n",
      "adding the mean for Tunisia\n",
      "....skipping Egypt\n",
      "adding the mean for Jamaica\n",
      "adding the mean for Switzerland\n",
      "adding the mean for Germany\n"
     ]
    }
   ],
   "source": [
    "# Get a list of all the country names\n",
    "country_name_list = list(success_estimates.keys())\n",
    "\n",
    "# Create an empty dictionary to hold country mean estimates\n",
    "country_means = {}\n",
    "\n",
    "# Loop through all countries and calculate their mean success estimate\n",
    "for i in country_name_list:\n",
    "    list_country_estimates = success_estimates[i] # list of estimates for a country\n",
    "\n",
    "    # if more than one country estimate, then record the mean estimate, otherwise go to next loop iteration\n",
    "    if len(success_estimates[i]) > 1:\n",
    "        print(\"adding the mean for\",i)\n",
    "        country_mean_value = sum(list_country_estimates) / len(list_country_estimates)\n",
    "        country_means[i] =  country_mean_value # insert country mean value into dict using country name as key\n",
    "    else:\n",
    "        print(\"....skipping\", i)"
   ]
  },
  {
   "cell_type": "markdown",
   "metadata": {
    "id": "5oz-q8xLz5Gt"
   },
   "source": [
    "Note that countries which do not have more than one estimate are skipped. Not only are the `print` lines ignored, but every line in the `if` block are also ignored, so the means for the countries with only one estimate are not added to `country_means`."
   ]
  },
  {
   "cell_type": "markdown",
   "metadata": {
    "id": "iXI7UCbBz5Gt"
   },
   "source": [
    "Let's format our results, [modifying the string output](https://www.geeksforgeeks.org/python-format-function/) to the screen to use 2 decimals when printing the float type. This is accomplished using the string type's ```.format()``` functionality. The ```{0:s}``` and ```{1:.2f}``` in the string indicate to the ```.format()``` method to format the first variable it receives as input as a string and replace the ```{0:s}``` placeholder, and to format the second variable it receives as input as a 2-decimal float and replace the ```{1:.2f}``` placeholder.\n",
    "\n",
    "With this formatting, the ```country_key``` variable will be displayed as a string in place of ```{0:s}```, while the ```country_means[country_key]``` variable will be displayed as a 2-decimal float in place of ```{1:.2f}```.  This advanced string formatting approach is useful to improve the clarity of the results:"
   ]
  },
  {
   "cell_type": "code",
   "execution_count": null,
   "metadata": {
    "id": "Rv5pVABVz5Gt",
    "outputId": "2a13ef2e-20c2-433e-e8b6-362c6d6e4fe8",
    "scrolled": true
   },
   "outputs": [
    {
     "name": "stdout",
     "output_type": "stream",
     "text": [
      "Country: Australia, Avg Success Estimate: 0.30\n",
      "Country: France, Avg Success Estimate: 0.66\n",
      "Country: Brazil, Avg Success Estimate: 0.29\n",
      "Country: USA, Avg Success Estimate: 0.33\n",
      "Country: Canada, Avg Success Estimate: 0.28\n",
      "Country: Greece, Avg Success Estimate: 0.61\n",
      "Country: Tunisia, Avg Success Estimate: 0.62\n",
      "Country: Jamaica, Avg Success Estimate: 0.66\n",
      "Country: Switzerland, Avg Success Estimate: 0.79\n",
      "Country: Germany, Avg Success Estimate: 0.43\n"
     ]
    }
   ],
   "source": [
    "# Nicely format the result for printing to the screen\n",
    "for country_key in country_means: \n",
    "    print(\"Country: {0:s}, Avg Success Estimate: {1:.2f}\".format(country_key, country_means[country_key]))"
   ]
  },
  {
   "cell_type": "markdown",
   "metadata": {
    "id": "bytpAMfnz5Gu"
   },
   "source": [
    "Observing the resulting country means, we notice the country with the largest mean success estimate is Switzerland at 0.79, while the lowest mean success estimate is Canada at 0.28."
   ]
  },
  {
   "cell_type": "markdown",
   "metadata": {
    "id": "z2a4ovzyz5Gu"
   },
   "source": [
    "### Exercise 8:\n",
    "\n",
    "After reviewing company policy on statistical procedures, you notice the company recommends that all estimates (averages, minimums, maximums) must have at least three values contributing to the summary statistic. Write a `for` loop and use the ```if``` statement structure to select and print the average success estimates for the countries satisfying this policy. If the country does not satisfy the policy, print the country name and ``\"*Does not meet company policy*\"``. Each country should appear on a new line."
   ]
  },
  {
   "cell_type": "markdown",
   "metadata": {
    "id": "J1T1T7Ivz5Gu"
   },
   "source": [
    "**Answer.**"
   ]
  },
  {
   "cell_type": "markdown",
   "metadata": {
    "id": "Z8zzgvM8z5Gu"
   },
   "source": [
    "-------"
   ]
  },
  {
   "cell_type": "code",
   "execution_count": 31,
   "metadata": {},
   "outputs": [
    {
     "name": "stdout",
     "output_type": "stream",
     "text": [
      "Country: Australia, Avg: 0.295000\n",
      "Country: France, Avg: 0.655000\n",
      "Does not meet policy Italy\n",
      "Country: Brazil, Avg: 0.290000\n",
      "Country: USA, Avg: 0.333333\n",
      "Does not meet policy England\n",
      "Does not meet policy Canada\n",
      "Does not meet policy Argentina\n",
      "Country: Greece, Avg: 0.610000\n",
      "Does not meet policy Morocco\n",
      "Does not meet policy Tunisia\n",
      "Does not meet policy Egypt\n",
      "Country: Jamaica, Avg: 0.656667\n",
      "Country: Switzerland, Avg: 0.786000\n",
      "Country: Germany, Avg: 0.433333\n"
     ]
    }
   ],
   "source": [
    "country_names = list(success_estimates.keys())\n",
    "\n",
    "country_threes = {}\n",
    "\n",
    "for country in country_names:\n",
    "    if len(success_estimates[country]) < 3:\n",
    "        print('Does not meet policy {0:s}'.format(country))\n",
    "    else:\n",
    "        country_threes[country] = success_estimates[country]\n",
    "        print('Country: {0:s}, Avg: {1:2f}'.format(country, sum(success_estimates[country]) / len(success_estimates[country])))"
   ]
  },
  {
   "cell_type": "code",
   "execution_count": 32,
   "metadata": {},
   "outputs": [
    {
     "data": {
      "text/plain": [
       "{'Australia': [0.6, 0.33, 0.11, 0.14],\n",
       " 'France': [0.66, 0.78, 0.98, 0.2],\n",
       " 'Brazil': [0.22, 0.22, 0.43],\n",
       " 'USA': [0.2, 0.5, 0.3],\n",
       " 'Greece': [0.45, 0.66, 0.75, 0.99, 0.15, 0.66],\n",
       " 'Jamaica': [0.61, 0.65, 0.71],\n",
       " 'Switzerland': [0.73, 0.86, 0.84, 0.51, 0.99],\n",
       " 'Germany': [0.45, 0.49, 0.36]}"
      ]
     },
     "execution_count": 32,
     "metadata": {},
     "output_type": "execute_result"
    }
   ],
   "source": [
    "country_threes"
   ]
  },
  {
   "cell_type": "markdown",
   "metadata": {
    "id": "2qkkbVyIz5Gu"
   },
   "source": [
    "### Exercise 9:\n",
    "\n",
    "In addition to the above policy, the company wants to flag countries where the range of estimates is too big, as this is usually due to the estimates being taken at very different times, or outright containing errors. They want to pay special attention to cases where the range (the difference between the largest and smallest estimates) is larger than 0.6. Calculate the range for each country and indicate if it should be flagged."
   ]
  },
  {
   "cell_type": "markdown",
   "metadata": {
    "id": "c84btdEWz5Gv"
   },
   "source": [
    "**Answer.**"
   ]
  },
  {
   "cell_type": "markdown",
   "metadata": {
    "id": "UCOM7Ppwz5Gv"
   },
   "source": [
    "-------"
   ]
  },
  {
   "cell_type": "code",
   "execution_count": 47,
   "metadata": {},
   "outputs": [
    {
     "name": "stdout",
     "output_type": "stream",
     "text": [
      "Range of France should be flagged: range 0.78\n",
      "Range of Greece should be flagged: range 0.84\n"
     ]
    }
   ],
   "source": [
    "country_names3 = list(country_threes.keys())\n",
    "\n",
    "for country in country_names3:\n",
    "    ranges = max(country_threes[country]) - min(country_threes[country])\n",
    "    if ranges > 0.6:\n",
    "        print('Range of {0:s} should be flagged: range {1:.2f}'.format(country, ranges))"
   ]
  },
  {
   "cell_type": "markdown",
   "metadata": {
    "id": "j4bx1_ruz5Gv"
   },
   "source": [
    "### Exercise 10:\n",
    "\n",
    "What is another approach to resolve the one-sample problem for some countries? Think in terms of the factors that drive confidence in data-driven business decisions.\n",
    "\n",
    "(a) Group countries together to larger regions to ensure each region has at least one estimate\n",
    "\n",
    "(b) Only remove a country if its estimates are very large or very small compared to other estimates\n",
    "\n",
    "(c) Use a different summary statistic for the analysis other than the average value\n",
    "\n",
    "(d) Revisit why some countries only have one estimate and see if more data can be sourced for these countries\n",
    "\n",
    "**Answer.**"
   ]
  },
  {
   "cell_type": "markdown",
   "metadata": {
    "id": "Hy0y8nGpz5Gv"
   },
   "source": [
    "-------"
   ]
  },
  {
   "cell_type": "code",
   "execution_count": 35,
   "metadata": {},
   "outputs": [],
   "source": [
    "# should definitely revisit data and why can't have more estimates; compare countries based on regions/continents and maybe group at that level"
   ]
  },
  {
   "cell_type": "markdown",
   "metadata": {
    "id": "z2RumURfz5Gv"
   },
   "source": [
    "## Putting it all together"
   ]
  },
  {
   "cell_type": "markdown",
   "metadata": {
    "id": "GAgv-5Vlz5Gv"
   },
   "source": [
    "We've used for loops and control structures to calculate partial summary statistics for each of the countries. Let's put it all together to obtain a recommendation on which country we should choose to expand the luxury flight services."
   ]
  },
  {
   "cell_type": "markdown",
   "metadata": {
    "id": "Emtz0TBcz5Gv"
   },
   "source": [
    "### Exercise 11:\n",
    "\n",
    "Write code to print each country name and summary statistics. Each line should show one country and the corresponding summary statistics: Min Estimate (float), Average Estimate (float), Max Estimate (float), Number of Estimates (int), Meets Company Policy of at least 3 estimates (bool). For example, the line for France would appear as:\n",
    "```\n",
    "Country: France , Min: 0.2 , Average: 0.655 , Max: 0.98 , NumEst: 4 , MeetsPolicy: True\n",
    "```"
   ]
  },
  {
   "cell_type": "markdown",
   "metadata": {
    "id": "JVuN_QK_z5Gw"
   },
   "source": [
    "**Answer.**"
   ]
  },
  {
   "cell_type": "markdown",
   "metadata": {
    "id": "sjtnOiXrz5Gw"
   },
   "source": [
    "-------"
   ]
  },
  {
   "cell_type": "code",
   "execution_count": 48,
   "metadata": {},
   "outputs": [
    {
     "name": "stdout",
     "output_type": "stream",
     "text": [
      "Country: Australia, Min: 0.11, Avg: 0.30, Max: 0.60, NumEst: 4, MeetsPolicy: True\n",
      "Country: France, Min: 0.20, Avg: 0.66, Max: 0.98, NumEst: 4, MeetsPolicy: True\n",
      "Country: Italy, Min: 0.60, Avg: 0.60, Max: 0.60, NumEst: 1, MeetsPolicy: False\n",
      "Country: Brazil, Min: 0.22, Avg: 0.29, Max: 0.43, NumEst: 3, MeetsPolicy: True\n",
      "Country: USA, Min: 0.20, Avg: 0.33, Max: 0.50, NumEst: 3, MeetsPolicy: True\n",
      "Country: England, Min: 0.45, Avg: 0.45, Max: 0.45, NumEst: 1, MeetsPolicy: False\n",
      "Country: Canada, Min: 0.25, Avg: 0.28, Max: 0.30, NumEst: 2, MeetsPolicy: False\n",
      "Country: Argentina, Min: 0.22, Avg: 0.22, Max: 0.22, NumEst: 1, MeetsPolicy: False\n",
      "Country: Greece, Min: 0.15, Avg: 0.61, Max: 0.99, NumEst: 6, MeetsPolicy: True\n",
      "Country: Morocco, Min: 0.29, Avg: 0.29, Max: 0.29, NumEst: 1, MeetsPolicy: False\n",
      "Country: Tunisia, Min: 0.56, Avg: 0.62, Max: 0.68, NumEst: 2, MeetsPolicy: False\n",
      "Country: Egypt, Min: 0.99, Avg: 0.99, Max: 0.99, NumEst: 1, MeetsPolicy: False\n",
      "Country: Jamaica, Min: 0.61, Avg: 0.66, Max: 0.71, NumEst: 3, MeetsPolicy: True\n",
      "Country: Switzerland, Min: 0.51, Avg: 0.79, Max: 0.99, NumEst: 5, MeetsPolicy: True\n",
      "Country: Germany, Min: 0.36, Avg: 0.43, Max: 0.49, NumEst: 3, MeetsPolicy: True\n"
     ]
    }
   ],
   "source": [
    "country_names = list(success_estimates.keys())\n",
    "\n",
    "for country in country_names:\n",
    "    value = success_estimates[country]\n",
    "    minim = min(value)\n",
    "    maxim = max(value)\n",
    "    avg = sum(value) / len(value)\n",
    "    num = len(value)\n",
    "    meets = (country in country_threes)\n",
    "    \n",
    "    print(\"Country: {0:s}, Min: {1:.2f}, Avg: {2:.2f}, Max: {3:.2f}, NumEst: {4}, MeetsPolicy: {5}\".format(country, minim, avg, maxim, num, meets))"
   ]
  },
  {
   "cell_type": "markdown",
   "metadata": {
    "id": "5nO9TVLgz5Gw"
   },
   "source": [
    "###  Exercise 12:\n",
    "\n",
    "We can see that Switzerland has the highest average by looking at all of the values, but let's take this one step further and get Python to calculate that for us. \n",
    "\n",
    "Loop through the data again but keep track of the best country **that meets policy** and output data about only this country."
   ]
  },
  {
   "cell_type": "markdown",
   "metadata": {
    "id": "kDSt5j0Xz5Gw"
   },
   "source": [
    "**Answer.**"
   ]
  },
  {
   "cell_type": "markdown",
   "metadata": {
    "id": "8svRFDjNz5Gw"
   },
   "source": [
    "-------"
   ]
  },
  {
   "cell_type": "code",
   "execution_count": 50,
   "metadata": {},
   "outputs": [
    {
     "name": "stdout",
     "output_type": "stream",
     "text": [
      "Best country is Switzerland with average 0.79\n"
     ]
    }
   ],
   "source": [
    "country_names = list(success_estimates.keys())\n",
    "avg = 0 # initial\n",
    "best = 0\n",
    "\n",
    "for country in country_names:\n",
    "    if country in country_threes:\n",
    "        value = success_estimates[country]\n",
    "        avg_new = sum(value) / len(value)\n",
    "        \n",
    "        if avg_new > avg:\n",
    "            avg = avg_new\n",
    "            best = country\n",
    "\n",
    "print('Best country is {0:s} with average {1:.2f}'.format(best, avg))"
   ]
  },
  {
   "cell_type": "markdown",
   "metadata": {
    "id": "7wVIOhQoz5Gw"
   },
   "source": [
    "###  Exercise 13:\n",
    "\n",
    "We found the best country on average, but we are also interested in the safest or most conservative choice. This is defined by looking only at the **minimum** (that is, the most pessimistic) estimate for each country and taking the highest of those (still only considering ones **that meet policy**). Write code to determine and output data about this country."
   ]
  },
  {
   "cell_type": "markdown",
   "metadata": {
    "id": "S75yxVwQz5Gx"
   },
   "source": [
    "**Answer.**"
   ]
  },
  {
   "cell_type": "markdown",
   "metadata": {
    "id": "ayg1WQxiz5Gx"
   },
   "source": [
    "-------"
   ]
  },
  {
   "cell_type": "code",
   "execution_count": 51,
   "metadata": {},
   "outputs": [
    {
     "name": "stdout",
     "output_type": "stream",
     "text": [
      "Most conservative is Jamaica with min 0.79\n"
     ]
    }
   ],
   "source": [
    "country_names = list(success_estimates.keys())\n",
    "minim = 0 # initial\n",
    "best = 0\n",
    "\n",
    "for country in country_names:\n",
    "    if country in country_threes:\n",
    "        value = success_estimates[country]\n",
    "        minim_new = min(value)\n",
    "        \n",
    "        if minim_new > minim:\n",
    "            minim = minim_new\n",
    "            conservative = country\n",
    "\n",
    "print('Most conservative is {0:s} with min {1:.2f}'.format(conservative, avg))"
   ]
  },
  {
   "cell_type": "markdown",
   "metadata": {
    "id": "aSnrlNe2z5Gx"
   },
   "source": [
    "Note that above we used the Python `and` keyword to combine two booleans into one. The result is True only if **both** of the components are True. It has the same effect as the nested `if` statement in Exercise 12. You can read more about logical operators at the [W3Schools tutorial](https://www.w3schools.com/python/python_operators.asp)."
   ]
  },
  {
   "cell_type": "markdown",
   "metadata": {
    "id": "j_s5LoDOz5Gx"
   },
   "source": [
    "Before we conclude, let's push all of our work up to GitHub for safe keeping. \n",
    "\n",
    "* Make sure any code and notebook files you have open are saved\n",
    "* Open your command prompt or terminal application and navigate to your git repository (which should also contain your work)\n",
    "* run `git status` to check the status of files. Delete any files that you do not want to push to GitHub.\n",
    "* run `git add *` to add all the files\n",
    "* run `git commit -m \"finished Python preparation case\"`\n",
    "* run `git push origin master`\n",
    "\n",
    "You should see output on your terminal confirming that the files were pushed, and if you log into github.com and navigate to your repository, you should see the files with the latest changes through the web interface."
   ]
  },
  {
   "cell_type": "markdown",
   "metadata": {
    "id": "RQb4WKpaz5Gx"
   },
   "source": [
    "Now that we have summary statistics for a variety of country estimates, let's construct our actionable business recommendation."
   ]
  },
  {
   "cell_type": "markdown",
   "metadata": {
    "id": "vN0CgJWvz5Gx"
   },
   "source": [
    "## Conclusions\n",
    "\n",
    "From the analysis, Switzerland is the country with the largest chance of success for global expansion with an estimated success rate of 0.79. The summary statistic for Switzerland was calculated with an adequate number of estimates according to company policy. Thus, it is recommended that management explore opportunities in Switzerland for luxury flight services. Jamaica is also recommended as a conservative choice. Although it did not come out top overall, none of the estimates gave it a very low probability.\n",
    "\n",
    "In addition, another country that should be closely monitored for luxury flight services is France, which held a 0.66 average success estimate. If there are additional resources in the future for further luxury service expansion, France may be an apt choice, but more investigation should be done to see why one estimate gave France only a 0.2 success estimate."
   ]
  },
  {
   "cell_type": "markdown",
   "metadata": {
    "id": "t2kjDXpiz5Gy"
   },
   "source": [
    "## Takeaways\n",
    "\n",
    "In this case, we've learned the foundations of Python. Through identifying global expansion opportunities for an airline company we've covered fundamental data types, control structures, and a useful Python workflow to analyze a given set of data. You also learned about various summary statistics and how much confidence you can have in drawing conclusions from them.\n",
    "\n",
    "To recap, these are some of the building blocks of Python we just covered and we recommend you become very familiar with them before moving ahead:\n",
    "- variables\n",
    "- data types\n",
    "- `print` (how to format within `print` function)\n",
    "- lists\n",
    "- dictionaries\n",
    "- slicing/iterating\n",
    "- `for` loop\n",
    "- `if...elif...else` statements\n",
    "- list comprehension\n",
    "\n",
    "You can use these Python tools as both a foundation and a framework to build more complex projects and solve critical business problems. Python continues to be an outstanding tool to perform data-driven analysis and deliver key business insights."
   ]
  }
 ],
 "metadata": {
  "colab": {
   "name": "python_jupyter_basics.ipynb",
   "provenance": []
  },
  "kernelspec": {
   "display_name": "Python 3",
   "language": "python",
   "name": "python3"
  },
  "language_info": {
   "codemirror_mode": {
    "name": "ipython",
    "version": 3
   },
   "file_extension": ".py",
   "mimetype": "text/x-python",
   "name": "python",
   "nbconvert_exporter": "python",
   "pygments_lexer": "ipython3",
   "version": "3.8.5"
  }
 },
 "nbformat": 4,
 "nbformat_minor": 4
}
